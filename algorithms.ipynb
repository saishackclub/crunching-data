{
  "cells": [
    {
      "cell_type": "markdown",
      "metadata": {
        "id": "yOxr8PRjx9ap"
      },
      "source": [
        "# Now its time to challenge yourselves with ALGORITHMS!!\n",
        "Below are a series of challenge problems that can all be solved using the tools that we learned about in the meeting today. But be careful! Some of these can be a real brain teaser. Feel free to work together on these problems in any order that you choose (the later problems are harder than the earlier ones)."
      ]
    },
    {
      "cell_type": "markdown",
      "metadata": {
        "id": "KWMgc-Cpyp9j"
      },
      "source": [
        "# Algorithm 1: Adding up a list\n",
        "Suppose you own a small grocery store and you have a list of all the sales that you made in a day, but you want to know how much money you made. Using just loops and arithmetic, write a program that sums up all of the values stored in the given list of sales.\n",
        "\n",
        "For the list `sales=[0.99, 12.00, 15.39, 24.99, 5.00]` the output should be 58.37\n"
      ]
    },
    {
      "cell_type": "code",
      "execution_count": null,
      "metadata": {
        "id": "ZAe14iemyo9C"
      },
      "outputs": [],
      "source": [
        "# Here is the list of sale prices\n",
        "sales = [0.99, 12.00, 15.39, 24.99, 5.00]\n",
        "\n",
        "# Write your algorithm here:\n",
        "\n",
        "# Print the total sales here:\n",
        "print(\"total sales: \")"
      ]
    },
    {
      "cell_type": "markdown",
      "metadata": {
        "id": "oOwnoHUx0ioN"
      },
      "source": [
        "**Bonus questions (Optional):**\n",
        "\n",
        "\n",
        "*   If your answer looks something like `58.370000000000005`, why might it be ever-so-slightly different than the expected result? Ask Peter if you aren't sure!\n",
        "*   What would change if you wanted to multiply all of the elements in this list together instead of adding them? Try it out!\n",
        "*   Does your solution work for a list of any size? Try `l = [1,2,3,4,5,6,7,8,9,10]`. What do you get?\n",
        "\n",
        "\n"
      ]
    },
    {
      "cell_type": "markdown",
      "metadata": {
        "id": "sRKKNNXj1lNz"
      },
      "source": [
        "# Algorithm 2: Find the minimum element in a list\n",
        "Lets pretend that we measured the resting heartrate of a bunch of athletes and we wanted to know what is the lowest one we measured. Assuming our list of heartrates is in a random order, can you write an algorithm that will find the lowest?\n",
        "\n",
        "For the list `heartrates=[62, 75, 82, 71, 60, 100, 83, 91, 68]`, the output should be `60`."
      ]
    },
    {
      "cell_type": "code",
      "execution_count": null,
      "metadata": {
        "id": "VRYm-FBX3Ony"
      },
      "outputs": [],
      "source": [
        "# Here is the list of heartrates that we measured\n",
        "heartrates=[62, 75, 82, 71, 60, 100, 83, 91, 68]\n",
        "\n",
        "# Write your algorithm here:\n",
        "\n",
        "\n",
        "# Print out the minimum heartrate here:\n",
        "print(\"Minimum heartrate: \")"
      ]
    },
    {
      "cell_type": "markdown",
      "metadata": {
        "id": "YennVqN44QLd"
      },
      "source": [
        "**Bonus questions (Optional):**\n",
        "\n",
        "\n",
        "*   Would your algorithm still work if the list of number were each multiplied by a 1000? Try the list `heartrates=[62000, 75000, 82000, 71000, 60000, 100000, 83000, 91000, 68000]`, does it give the output `60000`?\n",
        "* What would you change if you wanted to find the maximum heartrate? Try it out!\n",
        "\n",
        "\n"
      ]
    },
    {
      "cell_type": "markdown",
      "metadata": {
        "id": "Q7BMvTN_4uv7"
      },
      "source": [
        "# Algorithm 3: Sort a list\n",
        "Just like in algorithm 2, suppose we have measurements of heartrates from a bunch of athletes. We want to share this information with other researchers but they need the heartrate data sorted from smallest to largest. Can you write an algorithm that will create a sorted list of the heartrate data? Hint: It might be helpful to solve Algorithm 2 first!\n",
        "\n",
        "For the list `heartrates=[62, 75, 82, 71, 60, 100, 83, 91, 68]` the output should be `[60, 62, 68, 71, 75, 82, 83, 91, 100]`\n"
      ]
    },
    {
      "cell_type": "code",
      "execution_count": null,
      "metadata": {
        "id": "uyFkG5wru0as"
      },
      "outputs": [],
      "source": [
        "heartrates=[62, 75, 82, 71, 60, 100, 83, 91, 68]\n",
        "\n",
        "# Write your algorithm here:\n",
        "\n",
        "# Print out the sorted list\n",
        "print(\"The sorted list is: \")\n"
      ]
    },
    {
      "cell_type": "markdown",
      "metadata": {
        "id": "earOsRq6BhNU"
      },
      "source": [
        "**Bonus questions (Optional):**\n",
        "\n",
        "\n",
        "*   Does your original list `heartrates` still contain its original contents? Is this a good or a bad thing?\n",
        "*   What is the maximum number of `<` comparisons it could take to sort this list? Do you think there is a better way?\n"
      ]
    },
    {
      "cell_type": "markdown",
      "metadata": {
        "id": "wuiE7hT8CVi8"
      },
      "source": [
        "# Algorithm 4 - K Nearest Neighbors\n",
        "Lets pretend that we have a list that contains the height (in inches) of everyone in the class. If our height is `62` inches can you write an algorithm that will find the `k=3` closest heights to our own?\n",
        "\n",
        "For the heights `heights=[60, 59, 72, 73, 65, 52, 64, 63, 63, 68]`, `myheight=62` and `k=3`,  the output should be `[63, 63, 60]`"
      ]
    },
    {
      "cell_type": "code",
      "execution_count": null,
      "metadata": {
        "id": "tFaok4NCyHo-"
      },
      "outputs": [],
      "source": [
        "# The heights of students in the class:\n",
        "heights=[60, 59, 72, 73, 65, 52, 64, 63, 63, 68]\n",
        "\n",
        "# My height:\n",
        "myheight=62\n",
        "\n",
        "# The number of nearest neighbors I want to find\n",
        "k=3\n",
        "\n",
        "# Write your algorithm here:\n",
        "\n",
        "print(\"Nearest neighbors: \")"
      ]
    },
    {
      "cell_type": "markdown",
      "metadata": {
        "id": "CcJYTGOSGLu5"
      },
      "source": [
        "**Bonus questions (Optional):**\n",
        "\n",
        "\n",
        "*   Play around with the values of `k` and `myheight`. can you break your algorithm?\n",
        "* How would you change the algorithm if you wanted to find your k-nearest **taller** neighbors? As in the people who are closest in height to you but also taller.\n",
        "\n",
        "\n"
      ]
    }
  ],
  "metadata": {
    "colab": {
      "provenance": []
    },
    "kernelspec": {
      "display_name": "Python 3",
      "name": "python3"
    },
    "language_info": {
      "name": "python"
    }
  },
  "nbformat": 4,
  "nbformat_minor": 0
}
