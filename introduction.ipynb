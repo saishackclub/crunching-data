{
  "cells": [
    {
      "cell_type": "markdown",
      "metadata": {
        "id": "bd59jn7NFC9Y"
      },
      "source": [
        "# Introduction to Python (Pt. 1)\n",
        "\n",
        "Welcome to the exciting world of Python!\n",
        "\n",
        "For many of you, this may be your very first time programming, and these lessons are designed to help you go from your very first steps with reading code all the way to writing code for the hands-on projects in this project. You got this!\n",
        "\n",
        "![alt text](https://media.giphy.com/media/fnQ3DS2bSrOdxNIXOC/giphy.gif)\n",
        "\n",
        "Before we jump into the lesson itself, let's talk about programming in general. **Programming** is a way to tell your computer how to perform tasks by giving it specific instructions.\n",
        "\n",
        "Everything a computer does is by using a computer program, and you may already be familiar with many of these! For example, Instagram, Pokemon Go, Google Maps, Siri, Photoshop, and more are all examples of computer programs.\n",
        "\n",
        "![Imgur](https://i.imgur.com/JLDNaFK.jpg)\n",
        "\n",
        "Just as humans communicate with different languages, there are also different languages to communicate to computers with. These are called **programming languages**, and there are hundreds of them, each with their own styles and uses.\n",
        "\n",
        "For AI, the most popular programming language to use is Python. There are many reasons that people like to use Python, such as:\n",
        "\n",
        "*   It's fast and easy to write code\n",
        "*   Many great open-source **libraries**\n",
        "*   Active and growing community\n",
        "\n",
        "A programming library is a collection of code that someone else has written, that you can then use (so you don't have to reinvent the wheel). Many libraries are private and owned by specific companies, but other libraries are open-source, meaning that they can be freely and publicly used and contributed to. Python has a very large community of people who build and maintain open-source libraries.\n",
        "\n",
        "We'll learn more about libraries in Python throughout the summer, and you may frequently see the use of one particular library called **Scikit-Learn**. This library and **TensorFlow** are two of the most popular for programming artificial intelligence.\n",
        "\n",
        "As an additional note, programming languages have different version numbers which may affect how they're read and written. (Think of this like the difference between Ancient Greek and Modern Greek, and how a language changes over time.) For this and the following lessons, we will be specifically using **Python 3**.\n",
        "\n"
      ]
    },
    {
      "cell_type": "markdown",
      "metadata": {
        "id": "Dx2VX_zGT211"
      },
      "source": [
        "## Your First Line of Python\n",
        "\n",
        "Now let's jump into some programming!\n",
        "\n",
        "Click on the programming block below, and a play button will appear on the left. Click on the play button to run the line of Python code. If you had to guess, what do you think this line of code will do?"
      ]
    },
    {
      "cell_type": "code",
      "execution_count": null,
      "metadata": {
        "id": "SIzLXK_4EoS8"
      },
      "outputs": [],
      "source": [
        "print(\"I'm here! I'm coding!\")"
      ]
    },
    {
      "cell_type": "markdown",
      "metadata": {
        "id": "X-XaIznyFQ6s"
      },
      "source": [
        "Congratulations! You've just run your very first line of code (in Python)!\n",
        "\n",
        "![alt text](https://media.giphy.com/media/ely3apij36BJhoZ234/giphy.gif)\n",
        "\n",
        "Before we dig deeper into Python, let's get to know about the coding environment that we're using.\n"
      ]
    },
    {
      "cell_type": "markdown",
      "metadata": {
        "id": "aizuciOFSRZ0"
      },
      "source": [
        "## Intro to Jupyter Notebooks and Google Colabs\n",
        "\n",
        "Typically, to run Python code, you have to run it on your computer, using either the command line or a specific type of program called an IDE (integrated development environment).\n",
        "\n",
        "Instead, right now we're using a tool called **Jupyter Notebooks**, which in the past few years has been extremely popular in the data science and artificial intelligence communities to write and run code. In addition, Google has created a software called **Colaboratory** (Colabs for short), which allows us to run our Notebooks in Google Drive, just like with Google Docs or Google Sheets.\n",
        "\n",
        "**Let's try out Google Colabs by adding a _code block_ under this text. Click this text, and then on the top left of the web page, click the \"+ Code\" button. Then write your own print statement!**"
      ]
    },
    {
      "cell_type": "markdown",
      "metadata": {
        "id": "nAtVLq5GRUpi"
      },
      "source": [
        "\n",
        "\n",
        "---\n",
        "\n",
        "You can write new Python code in any of the code blocks within this Notebook. When you want to run the code that you've written, make sure you have the code block selected, and hit the Play button on the left side of the block.\n",
        "\n",
        "If you want to delete a code block, select it, and then click on the three dots on the right side of the block to show the \"Delete Cell\" option.\n",
        "\n",
        "Python code persists between code blocks within this Notebook. That means that if you write some code in one code block, it can affect future code blocks. When we talk about variables next, this means that if you declare a variable in one code block, you can still call it in a different code block afterwards.\n",
        "\n",
        "As you work more in Google Colabs over this program, you may use other functions, such as adding text blocks, rearranging cells, and maybe even learning some **Markdown**, which is a language used to help style text blocks.\n",
        "\n"
      ]
    },
    {
      "cell_type": "markdown",
      "metadata": {
        "id": "A145dPi1FUiI"
      },
      "source": [
        "## Your Very First Variable (in Python)\n",
        "\n",
        "In programming, we use a concept called a **variable** that's similar to what you have learned in math. Let's give it a try:"
      ]
    },
    {
      "cell_type": "code",
      "execution_count": null,
      "metadata": {
        "id": "Z8FlcLOPFxJe"
      },
      "outputs": [],
      "source": [
        "x = 100"
      ]
    },
    {
      "cell_type": "markdown",
      "metadata": {
        "id": "5zKC-Rb2TsRm"
      },
      "source": [
        "When you run the cell above, you've **initialized** (created) a variable named `x` that you have **assigned** the value of 100.\n",
        "\n",
        "The next time you refer to `x` in your code, it will remember that it has been assigned 100.\n",
        "\n",
        "Variables are extremely useful in programming, and we'll see lots and lots of them moving forward!"
      ]
    },
    {
      "cell_type": "markdown",
      "metadata": {
        "id": "EhVneCRuF-qw"
      },
      "source": [
        "## Printing\n",
        "\n",
        "When we run a Python program, the user will only see what we decide to print to the screen.\n",
        "\n",
        "Notice that when we set `x = 100` earlier, nothing was printed back out. How can we make sure that the value we assign to a variable is correct? We can print it!"
      ]
    },
    {
      "cell_type": "code",
      "execution_count": null,
      "metadata": {
        "id": "SGboEhmDGLkQ"
      },
      "outputs": [],
      "source": [
        "y = 200\n",
        "print(y)"
      ]
    },
    {
      "cell_type": "markdown",
      "metadata": {
        "id": "agl-HIjaUch0"
      },
      "source": [
        "Try it out yourself! Make a variable called 'z' that has a value of 1300 and then print it out."
      ]
    },
    {
      "cell_type": "code",
      "execution_count": null,
      "metadata": {
        "id": "CZzE--8kUgMI"
      },
      "outputs": [],
      "source": [
        "# Add your code here & don't forget to hit Run when you're done!\n",
        "\n",
        "\n",
        "# By the way, when you add a hashtag to the front of your line, this tells\n",
        "# the coding environment to treat that line as a comment, so that you can\n",
        "# type out helpful notes for yourself. Great programmers leave comments on\n",
        "# their code to communicate information with other programmers!"
      ]
    },
    {
      "cell_type": "markdown",
      "metadata": {
        "id": "fLAAGvkuWLjW"
      },
      "source": [
        "If we have multiple print commands in a row, they will print each on a separate line by default."
      ]
    },
    {
      "cell_type": "code",
      "execution_count": null,
      "metadata": {
        "id": "dIX2pxeOWSU4"
      },
      "outputs": [],
      "source": [
        "print(\"Hello there!\")\n",
        "print(\"This message will show up to the user.\")"
      ]
    },
    {
      "cell_type": "markdown",
      "metadata": {
        "id": "BVY7e1QGWa4x"
      },
      "source": [
        "One thing that you will find useful is to be able to print out a message but also include the value of a variable in that message. For example:"
      ]
    },
    {
      "cell_type": "code",
      "execution_count": null,
      "metadata": {
        "id": "6TqMtz5fWsL-"
      },
      "outputs": [],
      "source": [
        "number_of_flowers = 5\n",
        "print(\"I have\", number_of_flowers, \"flowers.\")"
      ]
    },
    {
      "cell_type": "markdown",
      "metadata": {
        "id": "rYzhW61_W7-p"
      },
      "source": [
        "Notice that spaces were added between \"have\", \"5\", and \"flowers\" when we used the commas.\n",
        "\n",
        "In Python, there are many, many ways to format your print statements, and different programmers have different preferences for how they like to work with printing.\n",
        "\n",
        "One advanced way to format your print statements is as follows:"
      ]
    },
    {
      "cell_type": "code",
      "execution_count": null,
      "metadata": {
        "id": "J9qnv9eDXR7L"
      },
      "outputs": [],
      "source": [
        "number_of_flowers = 5\n",
        "print(\"I have {} flowers.\".format(number_of_flowers))"
      ]
    },
    {
      "cell_type": "markdown",
      "metadata": {
        "id": "K2u4DoJ9XddC"
      },
      "source": [
        "In the method above, the curly braces, `{}`, are used to tell Python to expect a variable there. We then specify what variable to expect by adding `.format(no_flowers)` after the message we are printing.\n",
        "\n",
        "If this line of code is confusing to look at right now, don't worry! We'll cover more Python concepts that will help you understand this line better (especially that `.format(no_flowers)` part) in the coming lessons. Now try it yourself!"
      ]
    },
    {
      "cell_type": "code",
      "execution_count": null,
      "metadata": {
        "id": "OmJzbbHYz30m"
      },
      "outputs": [],
      "source": [
        "# Write a print statement below to say \"I own 100 books\", using a variable number_of_books\n"
      ]
    },
    {
      "cell_type": "markdown",
      "metadata": {
        "id": "aW9avmXMGIk1"
      },
      "source": [
        "## Data Types\n",
        "\n",
        "So far, we've only been assigning integers to our variables, like we see in math. In Python, we can actually assign many more types of data to our variables!\n",
        "\n",
        "For example:"
      ]
    },
    {
      "cell_type": "code",
      "execution_count": null,
      "metadata": {
        "id": "JXHccv5bF0R3"
      },
      "outputs": [],
      "source": [
        "some_string = \"This type of data is called a string!\"\n",
        "some_string_2 = 'This is also a string; notice we can use both quote marks and apostrophes'\n",
        "\n",
        "# We can also assign numbers with decimal points to our variables. These are called Floats!\n",
        "some_number = 13.45\n",
        "\n",
        "# Another type of variable is called a boolean, which only holds the value of True or False\n",
        "# We'll talk more about these as we get to conditionals, in a later section\n",
        "some_bool = True\n",
        "\n",
        "print(\"Practice adding some print statements below to print the other variables!\")\n",
        "print(some_string)"
      ]
    },
    {
      "cell_type": "markdown",
      "metadata": {
        "id": "Qlk179SBGShj"
      },
      "source": [
        "## Variable Naming Rules\n",
        "\n",
        "Variables are case-sensitive. That means a variable named `thing` and one named `Thing` are different! Let's see why this matters by running the following code:"
      ]
    },
    {
      "cell_type": "code",
      "execution_count": null,
      "metadata": {
        "id": "Ii_G-7RhVYqN"
      },
      "outputs": [],
      "source": [
        "thing = 1\n",
        "print(Thing)"
      ]
    },
    {
      "cell_type": "markdown",
      "metadata": {
        "id": "5MrWMUhlVekt"
      },
      "source": [
        "Oh no! What happens when you run that code block? You'll see a `NameError` pop up, saying that `'Thing' is not defined`. This happens because we initialized a variable named `thing` but not one named `Thing` with the uppercase T.\n",
        "\n",
        "As you have seen in earlier examples, variables also can have letters, numbers, and underscores included in them, but with certain restrictions.\n",
        "\n",
        "Run the following code blocks to see if they work or if they raise errors:"
      ]
    },
    {
      "cell_type": "code",
      "execution_count": null,
      "metadata": {
        "id": "FrJUU4k4WFgi"
      },
      "outputs": [],
      "source": [
        "thing_2 = 5"
      ]
    },
    {
      "cell_type": "code",
      "execution_count": null,
      "metadata": {
        "id": "bj-VX0k8WRmd"
      },
      "outputs": [],
      "source": [
        "thing-2 = 5"
      ]
    },
    {
      "cell_type": "code",
      "execution_count": null,
      "metadata": {
        "id": "9pGaJumiWTX9"
      },
      "outputs": [],
      "source": [
        "2_thing = 5"
      ]
    },
    {
      "cell_type": "code",
      "execution_count": null,
      "metadata": {
        "id": "2T4xn5M6WWZg"
      },
      "outputs": [],
      "source": [
        "some variable = 5"
      ]
    },
    {
      "cell_type": "markdown",
      "metadata": {
        "id": "4z3D17hHWiDk"
      },
      "source": [
        "After running the above code blocks, you should see that you:\n",
        "\n",
        "\n",
        "*   Can only start a variable name with a letter or underscore (no numbers)\n",
        "*   Can't include a space in a variable name\n",
        "*   Can't use any special characters (like `-` or `+`) or punctuation (like `.` or `,`)\n",
        "\n",
        "Finally, you cannot use \"reserved keywords\" as variable names. \"Reserved keywords\" are special words in the Python language that do specific things in your code. For example, one reserved keyword is `for`. Notice how it's colored purple in the code block below:"
      ]
    },
    {
      "cell_type": "code",
      "execution_count": null,
      "metadata": {
        "id": "y9i_XQ2UXS10"
      },
      "outputs": [],
      "source": [
        "for = 10"
      ]
    },
    {
      "cell_type": "markdown",
      "metadata": {
        "id": "lSJQWGgUXYXV"
      },
      "source": [
        "If you run the above code block, it will raise an error as expected."
      ]
    },
    {
      "cell_type": "code",
      "execution_count": null,
      "metadata": {
        "id": "274hJJg-0Xzc"
      },
      "outputs": [],
      "source": [
        "# Initialize your own variable below (give it any valid name) and assign it the value \"Hello!\"\n"
      ]
    },
    {
      "cell_type": "markdown",
      "metadata": {
        "id": "cl4H_EeSGTw9"
      },
      "source": [
        "## Math in Python\n",
        "\n",
        "Python also makes it _very_ easy to do math without calculating it ourselves. In artificial intelligence work, we often deal with very complex equations and numbers, sometimes even dealing with billions of numbers at once, and it can be nearly impossible to compute by hand! This is where programming really helps us out, so that we're not left feeling like:\n",
        "\n",
        "![alt text](https://media.giphy.com/media/8lPSqcjcNjymIOS4Pm/giphy.gif)\n",
        "\n",
        "For example, if someone asks us to multiply 35 and 67, we could type it right into Python:"
      ]
    },
    {
      "cell_type": "code",
      "execution_count": null,
      "metadata": {
        "id": "5b6juVn90xbc"
      },
      "outputs": [],
      "source": [
        "print(35*67)"
      ]
    },
    {
      "cell_type": "markdown",
      "metadata": {
        "id": "m1XLpRkT1ACS"
      },
      "source": [
        "When we run the code above, we can print out the result of multiplying 35 and 67. But what if we need to keep this answer for future calculations? We can save it as a variable and re-use it!"
      ]
    },
    {
      "cell_type": "code",
      "execution_count": null,
      "metadata": {
        "id": "WXQ-xXAJF6QT"
      },
      "outputs": [],
      "source": [
        "a = 35 * 60\n",
        "b = 4\n",
        "c = a * b\n",
        "print(c)"
      ]
    },
    {
      "cell_type": "markdown",
      "metadata": {
        "id": "qImtIYnqGh74"
      },
      "source": [
        "### Math Operators\n",
        "\n",
        "So what mathematical operations can we do in Python, and how do we do them? Some examples below:"
      ]
    },
    {
      "cell_type": "code",
      "execution_count": null,
      "metadata": {
        "id": "pSMipR2J1b8H"
      },
      "outputs": [],
      "source": [
        "addition = 3 + 5\n",
        "subtraction = 10 - 2\n",
        "multiplication = 4 * 9\n",
        "division = 121 / 11\n",
        "exponentiation = 3 ** 2\n",
        "\n",
        "# Notice that if we run this cell block, there is no output (so we can't check our results)\n",
        "# Add a print statement so you can check the calculations are as expected!\n"
      ]
    },
    {
      "cell_type": "markdown",
      "metadata": {
        "id": "ieXkjVSP18iY"
      },
      "source": [
        "Additionally, one math operation you might not have seen before is called **modulo** and is quite useful when programming. What modulo does is it returns the remainder after you divide.\n",
        "\n",
        "For example:"
      ]
    },
    {
      "cell_type": "code",
      "execution_count": null,
      "metadata": {
        "id": "3ndlIJZY2HzW"
      },
      "outputs": [],
      "source": [
        "modulo = 35 % 2\n",
        "print(modulo)\n",
        "\n",
        "# When you divide 35 by 2, you get 17 with a remainder of 1\n",
        "# The modulo (%) operator will return that 1"
      ]
    },
    {
      "cell_type": "code",
      "execution_count": null,
      "metadata": {
        "id": "tCGj0nGC2YF4"
      },
      "outputs": [],
      "source": [
        "# What will the following return?\n",
        "mod = 44 % 10\n"
      ]
    },
    {
      "cell_type": "markdown",
      "metadata": {
        "id": "CeJcYlEQ2zB6"
      },
      "source": [
        "### Order of Operations and Parentheses\n",
        "\n",
        "Order of operations are respected in Python, and you can use parentheses as expected."
      ]
    },
    {
      "cell_type": "code",
      "execution_count": null,
      "metadata": {
        "id": "JYzFKAQy266e"
      },
      "outputs": [],
      "source": [
        "some_number = (47 + 3) * 2 / 10\n",
        "print(some_number)"
      ]
    },
    {
      "cell_type": "markdown",
      "metadata": {
        "id": "WIB9q_WU3FU8"
      },
      "source": [
        "You cannot, however, do implicit multiplication with parentheses. If you run the code below, it will return an error:"
      ]
    },
    {
      "cell_type": "code",
      "execution_count": null,
      "metadata": {
        "id": "1LbbzbKF3Klf"
      },
      "outputs": [],
      "source": [
        "some_number_2 = 2 (5 + 5)"
      ]
    },
    {
      "cell_type": "markdown",
      "metadata": {
        "id": "yjv3mJ9Z3dWS"
      },
      "source": [
        "### An Arithmetic Shortcut\n",
        "\n",
        "So far, we've only been initializing new variables. Variables in Python, unlike in math, can be updated to hold new values. For example:"
      ]
    },
    {
      "cell_type": "code",
      "execution_count": null,
      "metadata": {
        "id": "34BCUaoC3r6N"
      },
      "outputs": [],
      "source": [
        "a = 10\n",
        "print(a)\n",
        "a = 20\n",
        "print(a)"
      ]
    },
    {
      "cell_type": "markdown",
      "metadata": {
        "id": "2v7QdEfq3wSE"
      },
      "source": [
        "On the third line in the code block above, `a` is reassigned the value of 20.\n",
        "\n",
        "What if we wanted to add 10 to the value of `a`? There is an arithmetic shortcut we can use:"
      ]
    },
    {
      "cell_type": "code",
      "execution_count": null,
      "metadata": {
        "id": "WZCsT3Xd37N2"
      },
      "outputs": [],
      "source": [
        "a = 20\n",
        "a += 10\n",
        "print(a)\n",
        "# What do you expect this to print?"
      ]
    },
    {
      "cell_type": "markdown",
      "metadata": {
        "id": "z6wdIPsK4B4z"
      },
      "source": [
        "A longer example, with other operations. What do you think the final value should be? Try to calculate it yourself before adding a print command to test your answer:"
      ]
    },
    {
      "cell_type": "code",
      "execution_count": null,
      "metadata": {
        "id": "6cTxAUwG4KBd"
      },
      "outputs": [],
      "source": [
        "unknown = 5\n",
        "unknown += 5\n",
        "unknown -= 2\n",
        "unknown *= 8\n",
        "unknown /= 4\n",
        "unknown %= 3"
      ]
    },
    {
      "cell_type": "markdown",
      "metadata": {
        "id": "TFEzqNKE5a7s"
      },
      "source": [
        "## User Input\n",
        "\n",
        "Up until now, we've worked on printing, creating variables, and doing some math. All of that is useful, but what makes many programs interesting and valuable are that they can take in user input and change how they run.\n",
        "\n",
        "To get user input, we do the following:"
      ]
    },
    {
      "cell_type": "code",
      "execution_count": null,
      "metadata": {
        "id": "H6dLOIUc5x0S"
      },
      "outputs": [],
      "source": [
        "input(\"Type something and hit enter! \")"
      ]
    },
    {
      "cell_type": "markdown",
      "metadata": {
        "id": "YbQWIK6t56L3"
      },
      "source": [
        "We've gotten user input, but how do we remember it and use it in the future?\n",
        "\n",
        "As always, let's store it as a variable."
      ]
    },
    {
      "cell_type": "code",
      "execution_count": null,
      "metadata": {
        "id": "XJXEMyDn6EFb"
      },
      "outputs": [],
      "source": [
        "answer = input(\"Tell me something: \")\n",
        "print(\"You said:\", answer)"
      ]
    },
    {
      "cell_type": "markdown",
      "metadata": {
        "id": "zhpJRcuS6Q4F"
      },
      "source": [
        "In fact, a very early version of AI (that wasn't _really_ AI) called ELIZA mainly just took user input and returned it in a way that tried to mimic how a psychologist might communicate with you:"
      ]
    },
    {
      "cell_type": "code",
      "execution_count": null,
      "metadata": {
        "id": "t7VRUaHi6h0y"
      },
      "outputs": [],
      "source": [
        "topic = input(\"What topic is on your mind? \")\n",
        "print(\"And how does\", topic, \"make you feel?\")"
      ]
    },
    {
      "cell_type": "markdown",
      "metadata": {
        "id": "b7iSRfpWQCmP"
      },
      "source": [
        "## If Statements (Conditionals)\n",
        "\n",
        "How can we change how the program acts based on input from the user? We can make use of a concept called **conditionals**, which come from the idea that for certain _conditions_, you do certain actions.\n",
        "\n",
        "What do you think this following line of code does? Once you have a guess, give it a run a few times, with different inputs:\n"
      ]
    },
    {
      "cell_type": "code",
      "execution_count": null,
      "metadata": {
        "id": "_eY16gH65Z7X"
      },
      "outputs": [],
      "source": [
        "num = int(input(\"Input a number from 1 to 10: \"))\n",
        "\n",
        "if num > 5:\n",
        "  print(\"This was a good number!\")"
      ]
    },
    {
      "cell_type": "markdown",
      "metadata": {
        "id": "k4HhhrgI7r0a"
      },
      "source": [
        "Notice that in the code block above, the print statement only happens for certain numbers that are input. We happen to use the comparison operator `>` to compare `num` and `5` in this particular case. All of the comparison operators are as follows:\n",
        "\n",
        "\n",
        "* `==` to check for equality\n",
        "* `!=` to check for inequality\n",
        "* `>` greater than\n",
        "*   `<` less than\n",
        "*   `>=` greater than or equal to\n",
        "* `<=` less than or equal to\n",
        "\n",
        "It's particularly important to note that if you are checking if something is equal, you must use `==` and not just a single `=`, because a single `=` in Python is interpretted as assigning a value to a variable.\n",
        "\n",
        "We'll put this to use in the code block below. Don't be afraid to ask for help!\n",
        "\n"
      ]
    },
    {
      "cell_type": "code",
      "execution_count": null,
      "metadata": {
        "id": "ImWSfqzt9CS7"
      },
      "outputs": [],
      "source": [
        "num = int(input(\"Input a number from 1 to 10: \"))\n",
        "\n",
        "# Let's give it a try! Finish the following line so that \"You got it!\" only prints when num equals 3\n",
        "if\n",
        "  print(\"You got it!\")"
      ]
    },
    {
      "cell_type": "markdown",
      "metadata": {
        "id": "Gw6Q51KP9pnx"
      },
      "source": [
        "What if we wanted to print a different message if they got the number wrong? It would take a lot of time to write a condition for every single other option, so instead we can make use of a different piece of code:\n",
        "\n",
        "(Spoilers for the previous code block, so be sure to have finished that before looking at the following.)"
      ]
    },
    {
      "cell_type": "code",
      "execution_count": null,
      "metadata": {
        "id": "rwKvZoVc94tO"
      },
      "outputs": [],
      "source": [
        "num = int(input(\"Input a number from 1 to 10: \"))\n",
        "\n",
        "if num == 5:\n",
        "  print(\"You got it!\")\n",
        "else:\n",
        "  print(\"Try again!\")"
      ]
    },
    {
      "cell_type": "markdown",
      "metadata": {
        "id": "owQaUNuH-NyG"
      },
      "source": [
        "We can also include some math in our if statement, to help check for specific conditions. For example, a very popular use of the modulo operator is to check if a number is even or odd, and we can combine this with an if statement:"
      ]
    },
    {
      "cell_type": "code",
      "execution_count": null,
      "metadata": {
        "id": "iaTdt45N-kZC"
      },
      "outputs": [],
      "source": [
        "num = int(input(\"Input a number from 1 to 100: \"))\n",
        "\n",
        "if num % 2 == 0:\n",
        "  print(\"You inputted an even number.\")\n",
        "else:\n",
        "  print(\"You inputted an odd number.\")"
      ]
    },
    {
      "cell_type": "markdown",
      "metadata": {
        "id": "Hw0xFruG-wr5"
      },
      "source": [
        "So how does this work?\n",
        "\n",
        "Because modulo returns the remainder after dividing by 2, we know that all even numbers will have a remainder of 0 and all odd numbers will have a remainder of 1. Our if-statement checks to see that if after `num % 2` you get the result of 0, you know that `num` is an even number.\n",
        "\n",
        "There are many more uses of if-statements, and we'll see that this is one of the most useful fundamental concepts in programming that helps us create meaningful programs."
      ]
    },
    {
      "cell_type": "markdown",
      "metadata": {
        "id": "4_VBcdGR_26X"
      },
      "source": [
        "### A Note on Indenting\n",
        "\n",
        "You may have noticed in all of the code examples above that there is a single indent for the line that comes after the if-statement condition. Why might that be?\n",
        "\n",
        "Try running the following code to see what happens:"
      ]
    },
    {
      "cell_type": "code",
      "execution_count": null,
      "metadata": {
        "id": "ARmPnYh3AGc-"
      },
      "outputs": [],
      "source": [
        "x = 5\n",
        "\n",
        "if x < 2:\n",
        "  print(\"Well, we know this will not print...\")\n",
        "  print(\"But what about this?\")"
      ]
    },
    {
      "cell_type": "markdown",
      "metadata": {
        "id": "ZJGrCiGQAO6z"
      },
      "source": [
        "Compare it with the following:"
      ]
    },
    {
      "cell_type": "code",
      "execution_count": null,
      "metadata": {
        "id": "zvroZsG_AQSN"
      },
      "outputs": [],
      "source": [
        "x = 5\n",
        "\n",
        "if x < 2:\n",
        "  print(\"Well, we know this will not print...\")\n",
        "print(\"But what about this?\")"
      ]
    },
    {
      "cell_type": "markdown",
      "metadata": {
        "id": "2ktpJ4NPAWG2"
      },
      "source": [
        "What do you notice is the difference between the two code blocks?"
      ]
    },
    {
      "cell_type": "markdown",
      "metadata": {
        "id": "PmMDVxleAd1R"
      },
      "source": [
        "We use indenting to tell Python which block of code should be run as part of the conditional, and which part comes after the conditional.\n",
        "\n",
        "Not all programming languages use indentation for this -- for example, a different programming language called JavaScript uses the curly braces `{}` to tell the computer that everything inside the curly braces should be run if the condition is true, and everything afterwards will be run regardless of the conditional."
      ]
    },
    {
      "cell_type": "code",
      "execution_count": null,
      "metadata": {
        "id": "H5URZNxgBDgx"
      },
      "outputs": [],
      "source": [
        "# One more example just to be clear!\n",
        "y = 100\n",
        "\n",
        "# Do you remember what this following comparison operator does?\n",
        "if y != 100:\n",
        "  print(\"Will this line print?\")\n",
        "  print(\"How about this line?\")\n",
        "  print(\"Let's add one more line just in case.\")\n",
        "print(\"Now will it print?\")"
      ]
    },
    {
      "cell_type": "markdown",
      "metadata": {
        "id": "sSht1HzSQJdn"
      },
      "source": [
        "# Lists\n",
        "\n",
        "There are many ways in Python where we can store many different things in one single variable. Just like in the real world, we often want to be able to make lists in Python. Imagine these like to-do lists, shopping lists, or lists to keep track of a set of similar things.\n",
        "\n",
        "![alt text](https://media.giphy.com/media/MJ4Qi9dSACpLG/giphy.gif)"
      ]
    },
    {
      "cell_type": "code",
      "execution_count": null,
      "metadata": {
        "id": "WUeq84uACcXv"
      },
      "outputs": [],
      "source": [
        "# The following is a list in Python:\n",
        "things_to_do = [\"water plants\", \"take out trash\", \"mow law\", \"prepare dinner\"]"
      ]
    },
    {
      "cell_type": "markdown",
      "metadata": {
        "id": "YKWBRIoeC2EA"
      },
      "source": [
        "We use the square brackets `[]` to show that we're using a list in Python. Lists can be a mixture of different data types, like:"
      ]
    },
    {
      "cell_type": "code",
      "execution_count": null,
      "metadata": {
        "id": "zT5HBPDtDAi6"
      },
      "outputs": [],
      "source": [
        "some_random_list = [5, \"something\", True, 4.5, \"okay\"]\n",
        "\n",
        "# To test if something is in a list, we use the operator 'in'\n",
        "\n",
        "if 5 in some_random_list:\n",
        "  print(\"The number 5 is in this list!\")"
      ]
    },
    {
      "cell_type": "code",
      "execution_count": null,
      "metadata": {
        "id": "oyjb9WpgDb9z"
      },
      "outputs": [],
      "source": [
        "# Fill in the list below so that the conditional will be true!\n",
        "your_list = [ ]\n",
        "x = 42\n",
        "\n",
        "if x in your_list:\n",
        "  print(\"The value of x was found in your list.\")"
      ]
    },
    {
      "cell_type": "markdown",
      "metadata": {
        "id": "4agTX3VRJ203"
      },
      "source": [
        "### Indexing into a list\n",
        "\n",
        "What if we wanted to get a specific **element** of a list? We can do the following:"
      ]
    },
    {
      "cell_type": "code",
      "execution_count": null,
      "metadata": {
        "id": "wZwBL9fTKN-g"
      },
      "outputs": [],
      "source": [
        "some_list = ['a', 'b', 'c']\n",
        "print(some_list[1])\n",
        "\n",
        "# What do you expect this to print?"
      ]
    },
    {
      "cell_type": "markdown",
      "metadata": {
        "id": "rYah0sMUKSww"
      },
      "source": [
        "In Python, we actually start counting from 0, not 1. So the \"first\" element of the list would be `some_list[0]`. The number that we use is called the **index** of the element. (So element `a` would have the index of 0.)"
      ]
    },
    {
      "cell_type": "code",
      "execution_count": null,
      "metadata": {
        "id": "zM6ZxKl5Kdwe"
      },
      "outputs": [],
      "source": [
        "# Print the 'e' from the list using indexing\n",
        "random_list = [3, 5, 'blob', 'e']"
      ]
    },
    {
      "cell_type": "markdown",
      "metadata": {
        "id": "IDNz636mQKJq"
      },
      "source": [
        "## Loops\n",
        "\n",
        "Sometimes we want to repeat the same operation many times. For example, say we wanted to print all of the multiples of 7 up to 100. How could we do this?\n",
        "\n",
        "One way is to manually calculate all of the multiples and write `print(7)`, then `print(14)`, and continue until we've printed all of them out. But this takes lots of time to calculate and type out, and we're likely to make errors in this way.\n",
        "\n",
        "Instead, we can use something called a while loop:"
      ]
    },
    {
      "cell_type": "code",
      "execution_count": null,
      "metadata": {
        "id": "mQUIZgfoEVyA"
      },
      "outputs": [],
      "source": [
        "num = 7\n",
        "while num < 100:\n",
        "  print(num)\n",
        "  num += 7"
      ]
    },
    {
      "cell_type": "markdown",
      "metadata": {
        "id": "T7jnj-BhE8dX"
      },
      "source": [
        "On line 2 in the code above, we check to see if the variable `num` is less than 100. If it is, we will run the two indented lines of code, which print `num` and also increase it by 7. This will continue until `num` is greater than 100, and stop repeating, which we see from running the code.\n",
        "\n",
        "Loops are a very useful way to repeat the same task over and over, often with just a small thing changed on each **iteration**, which is what we call one cycle of the loop. If you feel like you're doing a lot of copying and pasting of code, this is often a sign that you can potentially replace things with a loop."
      ]
    },
    {
      "cell_type": "markdown",
      "metadata": {
        "id": "rnRBRs2fFtWC"
      },
      "source": [
        "### For Loops\n",
        "\n",
        "One particular type of loop is the for loop. It has many uses, such as with lists:"
      ]
    },
    {
      "cell_type": "code",
      "execution_count": null,
      "metadata": {
        "id": "azpbfV1ZF1Pz"
      },
      "outputs": [],
      "source": [
        "things_to_do = [\"water plants\", \"take out trash\", \"mow law\", \"prepare dinner\"]\n",
        "\n",
        "for task in things_to_do:\n",
        "  print(\"Now doing:\", task)"
      ]
    },
    {
      "cell_type": "markdown",
      "metadata": {
        "id": "jIDdokoOGAl6"
      },
      "source": [
        "Notice that in order to print out each element of the list one-by-one, we need to use a for loop. We cannot do the following:"
      ]
    },
    {
      "cell_type": "code",
      "execution_count": null,
      "metadata": {
        "id": "ZTsl1w5SGGuN"
      },
      "outputs": [],
      "source": [
        "# This would just print the entire list at once\n",
        "things_to_do = [\"water plants\", \"take out trash\", \"mow law\", \"prepare dinner\"]\n",
        "print(things_to_do)"
      ]
    },
    {
      "cell_type": "markdown",
      "metadata": {
        "id": "u53rfwj6GPKf"
      },
      "source": [
        "Say we want to loop through a list of numbers and count how many times we see an even number. We could do that by combining for loops and if statements:"
      ]
    },
    {
      "cell_type": "code",
      "execution_count": null,
      "metadata": {
        "id": "_wj_WJcbGOpX"
      },
      "outputs": [],
      "source": [
        "list_of_no = [1,2,99,24,45,76]\n",
        "\n",
        "count = 0\n",
        "\n",
        "for number in list_of_no:\n",
        "  if number % 2 == 0:\n",
        "    count += 1\n",
        "\n",
        "print(count)"
      ]
    },
    {
      "cell_type": "markdown",
      "metadata": {
        "id": "GZXRxYgjG8lm"
      },
      "source": [
        "Take your time to read the code example above. We've combined many of the different things that we've learned in the lesson so far to accomplish this task. Try to read through each line of code to understand what it does, especially within the for loop. Notice that the if-statement condition is indented once, and the `count += 1` line is indented twice."
      ]
    },
    {
      "cell_type": "markdown",
      "metadata": {
        "id": "TmR8AMRuQLiB"
      },
      "source": [
        "## Ranged For Loop\n",
        "\n",
        "In addition to using a for loop with a list, we can use a for loop with a range of numbers. Say we wanted to count up from 1 to 100 and print each number:"
      ]
    },
    {
      "cell_type": "code",
      "execution_count": null,
      "metadata": {
        "id": "-_phUnfIH3IH"
      },
      "outputs": [],
      "source": [
        "for number in range(100):\n",
        "  print(number)"
      ]
    },
    {
      "cell_type": "markdown",
      "metadata": {
        "id": "sUi3K9q9H7TZ"
      },
      "source": [
        "**What is the first number that's printed?**\n",
        "\n",
        "0! Remember that in Python, we typically start counting from 0, not 1.\n",
        "\n",
        "**What is the final number that's printed?**\n",
        "\n",
        "You'll notice that the number we specify in `range()` is the number we count _up to_, but don't actually get to.\n",
        "\n",
        "**How can we correct this to print the numbers 1 to 100 instead of 0 to 99?**"
      ]
    },
    {
      "cell_type": "code",
      "execution_count": null,
      "metadata": {
        "id": "7Psf3t8aIW5d"
      },
      "outputs": [],
      "source": [
        "# One approach:\n",
        "for number in range(1000):\n",
        "  print(number + 1)"
      ]
    },
    {
      "cell_type": "markdown",
      "metadata": {
        "id": "r-tZ57aoIeSM"
      },
      "source": [
        "Often we'll find multiple ways to do the same thing in Python."
      ]
    },
    {
      "cell_type": "code",
      "execution_count": null,
      "metadata": {
        "id": "Q91Y5tghIiZF"
      },
      "outputs": [],
      "source": [
        "# Another approach:\n",
        "for number in range(1, 101):\n",
        "  print(number)"
      ]
    },
    {
      "cell_type": "markdown",
      "metadata": {
        "id": "jUD_tPfNInVY"
      },
      "source": [
        "Both are valid approaches that have pros and cons."
      ]
    },
    {
      "cell_type": "markdown",
      "metadata": {
        "id": "BpDOerE7IufB"
      },
      "source": [
        "Notice that in the for loop, we mention the variable `number`, but never initialize it beforehand. Typically you'd expect this to return an error, like you see below:"
      ]
    },
    {
      "cell_type": "code",
      "execution_count": null,
      "metadata": {
        "id": "PMIif1WEI5sj"
      },
      "outputs": [],
      "source": [
        "# An example of a variable we've never initialized before being used\n",
        "print(some_random_new_variable)"
      ]
    },
    {
      "cell_type": "markdown",
      "metadata": {
        "id": "ZblZ4V6dJAPp"
      },
      "source": [
        "However, in the first line of a for loop, Python understands that we are using a placeholder variable that is updated each time the for loop runs. In the following example, `num` is a placeholder variable that's assigned the value 2 the first time the for loop runs, and incremented by 1 each time the loop repeats:"
      ]
    },
    {
      "cell_type": "code",
      "execution_count": null,
      "metadata": {
        "id": "Gs4rV2quJc7M"
      },
      "outputs": [],
      "source": [
        "for num in range(2, 10):\n",
        "  print(num)"
      ]
    },
    {
      "cell_type": "markdown",
      "metadata": {
        "id": "lvYdmKAXK_cP"
      },
      "source": [
        "## Exercise\n",
        "\n",
        "![alt text](https://media.giphy.com/media/9GimADqtnpAPe/giphy.gif)\n",
        "\n",
        "Let's try to put a few of the things that we've learned to the test!\n",
        "\n",
        "In this exercise, write a program that counts from 1 to 100, but will only print the word \"Fizz\" on every multiple of three, along with the number itself. For example, the start of your output should look like:\n",
        "\n",
        "> Fizz 3\n",
        "\n",
        "> Fizz 6\n",
        "\n",
        "> Fizz 9\n",
        "\n",
        "> Fizz 12\n",
        "\n",
        "> ...\n",
        "\n",
        "There are many ways to accomplish this exercise with what we have learned!"
      ]
    },
    {
      "cell_type": "code",
      "execution_count": null,
      "metadata": {
        "id": "Vy8PhrbXMIX6"
      },
      "outputs": [],
      "source": [
        "for i in range(1,101):\n",
        "  # Write your code here (Hint: Remember what the % operator does?)\n"
      ]
    },
    {
      "cell_type": "markdown",
      "metadata": {
        "id": "u1aoFYtBMLsW"
      },
      "source": [
        "## Challenge Exercise\n",
        "\n",
        "For those who are ambitious, here's a coding question that you can answer with just the concepts we've learned in this lesson. This one is slightly trickier, but you've got this!\n",
        "\n",
        "Write a program that prints the numbers from 1 to 100, but on multiples of 3 will print \"fizz\", on multiples of 5 will print \"buzz\", and on multiples of both 3 and 5 will print \"fizzbuzz\". For example, the start of your output should look like:\n",
        "\n",
        "> 1:\n",
        "\n",
        "> 2:\n",
        "\n",
        "> 3: fizz\n",
        "\n",
        "> 4:\n",
        "\n",
        "> 5: buzz\n",
        "\n",
        "> 6: fizz\n",
        "\n",
        "> 7:\n",
        "\n",
        "> 8:\n",
        "\n",
        "> 9: fizz\n",
        "\n",
        "> 10: buzz\n",
        "\n",
        "> 11:\n",
        "\n",
        "> 12: fizz\n",
        "\n",
        "> 13:\n",
        "\n",
        "> 14:\n",
        "\n",
        "> 15: fizzbuzz\n",
        "\n",
        "> 16:\n",
        "\n",
        "> ...\n",
        "\n",
        "Feel free to work with others and ask questions on this challenge exercise!"
      ]
    },
    {
      "cell_type": "code",
      "execution_count": null,
      "metadata": {
        "id": "dFyWQQomMLLk"
      },
      "outputs": [],
      "source": [
        "# Write your code here"
      ]
    },
    {
      "cell_type": "markdown",
      "metadata": {
        "id": "6OuXu_uMNMFA"
      },
      "source": [
        "Note: This is the classic \"fizzbuzz\" problem, which is actually a real interview question that some companies ask when they hire software engineers! Good job to those who figured out the solution to this question!"
      ]
    },
    {
      "cell_type": "markdown",
      "metadata": {
        "id": "YK9DA_IVNuSu"
      },
      "source": [
        "## Congratulations!\n",
        "\n",
        "You made it to the end ! This was a very condensed sprint through some fundamental Python concepts, and you did amazingly. Remember, it takes time and practice to get the hang of programming, so no sweat if you need to review some of the concepts in this lesson. Take this time to really congratulate yourself on all your work coding today!\n",
        "\n",
        "![alt text](https://media.giphy.com/media/26gs7fLOYbSGbBSN2/giphy.gif)"
      ]
    }
  ],
  "metadata": {
    "colab": {
      "provenance": []
    },
    "kernelspec": {
      "display_name": "Python 3",
      "name": "python3"
    }
  },
  "nbformat": 4,
  "nbformat_minor": 0
}
